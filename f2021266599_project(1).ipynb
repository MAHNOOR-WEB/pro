{
 "cells": [
  {
   "cell_type": "code",
   "execution_count": 2,
   "metadata": {},
   "outputs": [
    {
     "name": "stdout",
     "output_type": "stream",
     "text": [
      "The dataset contains 506 rows and 14 columns.\n"
     ]
    }
   ],
   "source": [
    "import pandas as pd\n",
    "import numpy as np\n",
    "import matplotlib.pyplot as plt\n",
    "import seaborn as sns\n",
    "from sklearn.model_selection import train_test_split\n",
    "from sklearn.preprocessing import StandardScaler\n",
    "from sklearn.linear_model import LinearRegression\n",
    "from sklearn.tree import DecisionTreeRegressor\n",
    "from sklearn.ensemble import RandomForestRegressor\n",
    "from sklearn.svm import SVR\n",
    "from sklearn.metrics import mean_squared_error, r2_score\n",
    "from sklearn.impute import SimpleImputer\n",
    "# Load dataset\n",
    "df = pd.read_csv(r'C:/m.py/Boston.csv')\n",
    "\n",
    "# Display the number of rows and columns in the dataset\n",
    "print(f\"The dataset contains {df.shape[0]} rows and {df.shape[1]} columns.\")"
   ]
  },
  {
   "cell_type": "code",
   "execution_count": 4,
   "metadata": {},
   "outputs": [
    {
     "name": "stdout",
     "output_type": "stream",
     "text": [
      "\n",
      "Missing values in the dataset:\n",
      "crim       0\n",
      "zn         0\n",
      "indus      0\n",
      "chas       0\n",
      "nox        0\n",
      "rm         0\n",
      "age        0\n",
      "dis        0\n",
      "rad        0\n",
      "tax        0\n",
      "ptratio    0\n",
      "b          0\n",
      "lstat      0\n",
      "medv       0\n",
      "dtype: int64\n",
      "\n",
      "Descriptive statistics of the dataset:\n",
      "               crim            zn         indus          chas           nox  \\\n",
      "count  5.060000e+02  5.060000e+02  5.060000e+02  5.060000e+02  5.060000e+02   \n",
      "mean  -1.123388e-16  7.898820e-17  2.106352e-16 -3.510587e-17 -1.965929e-16   \n",
      "std    1.000990e+00  1.000990e+00  1.000990e+00  1.000990e+00  1.000990e+00   \n",
      "min   -4.197819e-01 -4.877224e-01 -1.557842e+00 -2.725986e-01 -1.465882e+00   \n",
      "25%   -4.109696e-01 -4.877224e-01 -8.676906e-01 -2.725986e-01 -9.130288e-01   \n",
      "50%   -3.906665e-01 -4.877224e-01 -2.110985e-01 -2.725986e-01 -1.442174e-01   \n",
      "75%    7.396560e-03  4.877224e-02  1.015999e+00 -2.725986e-01  5.986790e-01   \n",
      "max    9.933931e+00  3.804234e+00  2.422565e+00  3.668398e+00  2.732346e+00   \n",
      "\n",
      "                 rm           age           dis           rad         tax  \\\n",
      "count  5.060000e+02  5.060000e+02  5.060000e+02  5.060000e+02  506.000000   \n",
      "mean   1.060197e-15 -1.474446e-16 -8.425408e-17 -1.123388e-16    0.000000   \n",
      "std    1.000990e+00  1.000990e+00  1.000990e+00  1.000990e+00    1.000990   \n",
      "min   -3.882772e+00 -2.335437e+00 -1.267069e+00 -9.828429e-01   -1.313990   \n",
      "25%   -5.686434e-01 -8.374480e-01 -8.056878e-01 -6.379618e-01   -0.767576   \n",
      "50%   -1.059913e-01  3.173816e-01 -2.793234e-01 -5.230014e-01   -0.464673   \n",
      "75%    4.767793e-01  9.067981e-01  6.623709e-01  1.661245e+00    1.530926   \n",
      "max    3.558156e+00  1.117494e+00  3.960518e+00  1.661245e+00    1.798194   \n",
      "\n",
      "            ptratio             b         lstat        medv  \n",
      "count  5.060000e+02  5.060000e+02  5.060000e+02  506.000000  \n",
      "mean  -4.212704e-16 -7.442444e-16 -3.089316e-16   22.532806  \n",
      "std    1.000990e+00  1.000990e+00  1.000990e+00    9.197104  \n",
      "min   -2.707379e+00 -3.907193e+00 -1.531127e+00    5.000000  \n",
      "25%   -4.880391e-01  2.050715e-01 -7.994200e-01   17.025000  \n",
      "50%    2.748590e-01  3.811865e-01 -1.812536e-01   21.200000  \n",
      "75%    8.065758e-01  4.336510e-01  6.030188e-01   25.000000  \n",
      "max    1.638828e+00  4.410519e-01  3.548771e+00   50.000000  \n",
      "\n",
      "First few rows after standardization:\n",
      "       crim        zn     indus      chas       nox        rm       age  \\\n",
      "0 -0.419782  0.284830 -1.287909 -0.272599 -0.144217  0.414403 -0.120013   \n",
      "1 -0.417339 -0.487722 -0.593381 -0.272599 -0.740262  0.194840  0.367166   \n",
      "2 -0.417342 -0.487722 -0.593381 -0.272599 -0.740262  1.284104 -0.265812   \n",
      "3 -0.416750 -0.487722 -1.306878 -0.272599 -0.835284  1.017491 -0.809889   \n",
      "4 -0.412482 -0.487722 -1.306878 -0.272599 -0.835284  1.229926 -0.511180   \n",
      "\n",
      "        dis       rad       tax   ptratio         b     lstat  medv  \n",
      "0  0.140214 -0.982843 -0.666608 -1.459000  0.441052 -1.075562  24.0  \n",
      "1  0.557160 -0.867883 -0.987329 -0.303094  0.441052 -0.492439  21.6  \n",
      "2  0.557160 -0.867883 -0.987329 -0.303094  0.396427 -1.208727  34.7  \n",
      "3  1.077737 -0.752922 -1.106115  0.113032  0.416163 -1.361517  33.4  \n",
      "4  1.077737 -0.752922 -1.106115  0.113032  0.441052 -1.026501  36.2  \n"
     ]
    }
   ],
   "source": [
    "# Check for missing values\n",
    "\n",
    "print(\"\\nMissing values in the dataset:\")\n",
    "print(df.isnull().sum())\n",
    "#Handle missing values (if any)\n",
    "# Example: Impute missing values with mean for numerical columns\n",
    "imputer = SimpleImputer(strategy='mean')\n",
    "df = pd.DataFrame(imputer.fit_transform(df), columns=df.columns)\n",
    "# Descriptive statistics\n",
    "print(\"\\nDescriptive statistics of the dataset:\")\n",
    "print(df.describe())\n",
    "\n",
    "# Assuming the numerical features to standardize (excluding 'MEDV')\n",
    "numerical_features = df.columns[:-1]\n",
    "scaler = StandardScaler()\n",
    "df[numerical_features] = scaler.fit_transform(df[numerical_features])\n",
    "\n",
    "# Display first few rows after standardization\n",
    "print(\"\\nFirst few rows after standardization:\")\n",
    "print(df.head())"
   ]
  }
 ],
 "metadata": {
  "kernelspec": {
   "display_name": "Python 3",
   "language": "python",
   "name": "python3"
  },
  "language_info": {
   "codemirror_mode": {
    "name": "ipython",
    "version": 3
   },
   "file_extension": ".py",
   "mimetype": "text/x-python",
   "name": "python",
   "nbconvert_exporter": "python",
   "pygments_lexer": "ipython3",
   "version": "3.11.9"
  }
 },
 "nbformat": 4,
 "nbformat_minor": 2
}
